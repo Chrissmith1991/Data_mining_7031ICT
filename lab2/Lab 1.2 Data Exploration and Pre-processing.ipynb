{
 "cells": [
  {
   "cell_type": "markdown",
   "metadata": {},
   "source": [
    "<center><font size=\"10\">3804ICT/3031ICT/7031ICT Data Mining</font></center> <br>\n",
    "<center><font size=\"8\">Workshop/Lab Week 2</font></center> <br><br>\n",
    "<center><font size=\"6\">by Dr Can Wang</font></center> <br><br>\n",
    "<center><font size=\"6\">Trimester 2, 2021</font></center> <br>"
   ]
  },
  {
   "cell_type": "markdown",
   "metadata": {},
   "source": [
    "# Activity Set 1: Find solutions to the following problems [<font color=red>Individual Activity</font>]\n",
    "## 1. Data Exploration\n",
    "### Question Set 1 (20 mins)\n",
    "<p>Suppose that the data for analysis includes the attribute age. The age values for the data tuples are (in increasing order) (13, 15, 16, 16, 19, 20, 20, 21, 22, 22, 25, 25, 25, 25, 30, 33, 33, 35, 35, 35, 35, 36, 40, 45, 46, 52, 70). Given the data, answer the following questions:<br>\n",
    "<ol>\n",
    "    <li>What is the mean of the data? What is the median? What is the variance? (5 mins)</li><br>\n",
    "    <li>Can you find the first quartile (Q1) and the third quartile (Q3) of the data? (3 mins)</li><br>\n",
    "    <li>Give the five-number summary of the data. (2 mins)</li><br>\n",
    "    <li>Please use Python with neccessary libraries to validate your results of (1), (2), and (3) below. Also, use \"matplotlib\" to draw a box plot of the age data. (10 mins)</li><br>\n",
    "</ol>\n",
    "</p>"
   ]
  },
  {
   "cell_type": "code",
   "execution_count": 14,
   "metadata": {},
   "outputs": [],
   "source": [
    "# import neccessary libs and load the age data in this code cell\n",
    "import matplotlib.pyplot as plt\n",
    "import pandas as pd\n",
    "\n",
    "values = [41,41,42,43,45,46,49,50,55,58,61,66,73,79,80,85,87,89,92,98]"
   ]
  },
  {
   "cell_type": "code",
   "execution_count": 3,
   "metadata": {},
   "outputs": [],
   "source": [
    "# calculate mean, median, variance values of data  in this code cell\n",
    "def mean(values: list) -> float:\n",
    "    total = 0\n",
    "    for x in values:\n",
    "        total += x\n",
    "    return (total / len(values))\n",
    "\n",
    "def median(values: list) -> float:\n",
    "    values.sort()\n",
    "    return values[int(len(values) / 2)]\n",
    "\n",
    "def variance(values: list) -> float:\n",
    "    meanVal = mean(values)\n",
    "    var_values = [(x-meanVal)**2 for x in values]\n",
    "    return mean(var_values)\n",
    "\n",
    "meanValue = mean(values)\n",
    "medianValue = median(values)\n",
    "varianceValue = variance(values)\n",
    "\n"
   ]
  },
  {
   "cell_type": "code",
   "execution_count": 4,
   "metadata": {},
   "outputs": [
    {
     "name": "stdout",
     "output_type": "stream",
     "text": [
      "64.0\n",
      "61\n",
      "365.8\n"
     ]
    }
   ],
   "source": [
    "print(meanValue)\n",
    "print(medianValue)\n",
    "print(varianceValue)"
   ]
  },
  {
   "cell_type": "code",
   "execution_count": 5,
   "metadata": {},
   "outputs": [],
   "source": [
    "# calculate Q1, Q3, and display the five-number summary of the data in this code cell\n",
    "minimumValue = min(values)\n",
    "Q1 = values[round(len(values) * 0.25) - 1]\n",
    "Q2 = values[round(len(values) * 0.75) - 1]\n",
    "maximumValue = max(values)"
   ]
  },
  {
   "cell_type": "code",
   "execution_count": 6,
   "metadata": {},
   "outputs": [
    {
     "name": "stdout",
     "output_type": "stream",
     "text": [
      "41\n",
      "45\n",
      "61\n",
      "80\n",
      "98\n",
      "[41, 45, 61, 80, 98]\n"
     ]
    }
   ],
   "source": [
    "print(minimumValue)\n",
    "print(Q1)\n",
    "print(medianValue)\n",
    "print(Q2)\n",
    "print(maximumValue)\n",
    "\n",
    "box_values = [minimumValue, Q1, medianValue, Q2, maximumValue]\n",
    "print(box_values)"
   ]
  },
  {
   "cell_type": "code",
   "execution_count": 31,
   "metadata": {},
   "outputs": [
    {
     "data": {
      "text/plain": [
       "{'whiskers': [<matplotlib.lines.Line2D at 0x249d79b0e50>,\n",
       "  <matplotlib.lines.Line2D at 0x249d79d0160>],\n",
       " 'caps': [<matplotlib.lines.Line2D at 0x249d79d04f0>,\n",
       "  <matplotlib.lines.Line2D at 0x249d79d0880>],\n",
       " 'boxes': [<matplotlib.lines.Line2D at 0x249d79b0a00>],\n",
       " 'medians': [<matplotlib.lines.Line2D at 0x249d79d0c10>],\n",
       " 'fliers': [<matplotlib.lines.Line2D at 0x249d79d0fa0>],\n",
       " 'means': []}"
      ]
     },
     "execution_count": 31,
     "metadata": {},
     "output_type": "execute_result"
    },
    {
     "data": {
      "image/png": "[encoded data removed]",
      "text/plain": [
       "<Figure size 432x288 with 1 Axes>"
      ]
     },
     "metadata": {
      "needs_background": "light"
     },
     "output_type": "display_data"
    }
   ],
   "source": [
    "# use matplotlib to draw a plot box of the given data in this cell.\n",
    "# more details of the drawing method can be found here:\n",
    "# Documentation: https://matplotlib.org/api/_as_gen/matplotlib.pyplot.boxplot.html?highlight=boxplot#matplotlib.pyplot.boxplot\n",
    "# Example: https://matplotlib.org/gallery/statistics/boxplot_demo.html\n",
    "plt.boxplot(box_values)\n"
   ]
  },
  {
   "cell_type": "markdown",
   "metadata": {},
   "source": [
    "### Question Set 2 (20 mins)\n",
    "<p>Review the calculation method of approximated median in lecture slides (pages 10-11) and try to answer the following questions:<br>\n",
    "<ol>\n",
    "    <li>Why we need to approximately calculate median value of data? (2 mins)</li><br>    \n",
    "    <li>Given the age data in <b>Question Set 1</b>, please calculate the approximated median value. (12 mins) <br>\n",
    "        NOTE: age data can be divided into three intervals: a). $\\leq 20$, b). $[21,30]$ c). $\\geq 31$</li><br>\n",
    "    <li>Compare the approximated median with the real median. (1 mins)</li><br>\n",
    "    <li>Draw the histogram of age data with different number of bins. (5 mins)</li>\n",
    "</ol>\n",
    "</p>"
   ]
  },
  {
   "cell_type": "code",
   "execution_count": 13,
   "metadata": {},
   "outputs": [
    {
     "name": "stdout",
     "output_type": "stream",
     "text": [
      "76.33333333333334\n"
     ]
    }
   ],
   "source": [
    "def aprox_median(values: list, lower: float, upper: float) -> float:\n",
    "    middle_interval = [x for x in values if x > lower and x < upper]\n",
    "    lower_bound = min(middle_interval)\n",
    "    total_set = len(values)\n",
    "    Efreq = len(middle_interval) - 1 # 1 interval less than the middle\n",
    "    freq_med = len(middle_interval)\n",
    "    width = max(middle_interval) - min(middle_interval)\n",
    "    \n",
    "    return lower_bound + (((total_set/2) - Efreq)/freq_med)*width\n",
    "\n",
    "print(aprox_median(values, 55, 81))"
   ]
  },
  {
   "cell_type": "code",
   "execution_count": 48,
   "metadata": {},
   "outputs": [
    {
     "data": {
      "image/png": "[encoded data removed]",
      "text/plain": [
       "<Figure size 432x288 with 4 Axes>"
      ]
     },
     "metadata": {
      "needs_background": "light"
     },
     "output_type": "display_data"
    }
   ],
   "source": [
    "# use matplotlib to draw a histogram of the age data, and try to use different number of bins.\n",
    "# documentation: https://matplotlib.org/api/_as_gen/matplotlib.pyplot.hist.html\n",
    "# example: https://matplotlib.org/1.2.1/examples/pylab_examples/histogram_demo.html\n",
    "total_bins = [5, 7, 9, 11]\n",
    "\n",
    "fig, axs = plt.subplots(2,2)\n",
    "count = 0\n",
    "for i in range(2):\n",
    "    for j in range(2):\n",
    "        axs[i, j].hist(values, bins=total_bins[count])\n",
    "        count += 1"
   ]
  },
  {
   "cell_type": "markdown",
   "metadata": {},
   "source": [
    "### Question Set 3 (20 mins)\n",
    "<p>Review the measurements dissimilarity and similarity in lecture sides (pages 34-39) and try to answer the following questions:\n",
    "<br>\n",
    "<ol>\n",
    "    <li>Briefly describe what are similarity and dissimilarity between objects? (3 mins)</li><br>\n",
    "    <li>How to represent similarity/dissimilarity among $n$ data objects? Please describe the characteristics of the representation. (3 mins)</li><br>\n",
    "    <li>Give three data objects in the following table, each of which only has categorical features, calculate the dissimilarity between these objects. (5 mins) <br>\n",
    "    <table style=\"width:80%\">\n",
    "      <tr><th>student_id</th><th>gender</th><th>living_region</th><th>degree</th><th>major</th><th>country</th><th>scholarship</th><th>tutor</th><th>current_yea</th></tr>      \n",
    "      <tr><th>1001</th><th>M</th><th>A</th><th>bachelor</th><th>it</th><th>domestic</th><th>Y</th><th>N</th><th>1</th></tr>\n",
    "<tr><th>1002</th><th>F</th><th>B</th><th>bachelor</th><th>arts</th><th>international</th><th>Y</th><th>Y</th><th>3</th></tr>\n",
    "      <tr><th>1003</th><th>F</th><th>A</th><th>master</th><th>engineering</th><th>domestic</th><th>Y</th><th>Y</th><th>1</th></tr>\n",
    "      <tr><th>1004</th><th>M</th><th>C</th><th>master</th><th>it</th><th>domestic</th><th>Y</th><th>N</th><th>2</th></tr>\n",
    "    </table>    \n",
    "    Tips: calculate dis(1001,1002), dis(1001,1003), dis(1001,1004), dis(1002,1003), dis(1002,1004), dis(1003,1004) using <b>simple match</b> method.</li><br>\n",
    "    <li>Given two objects represented by the tuples (22, 1, 42, 10) and (20, 0, 36, 8), compute both the Euclidean distance and Manhattan distance between the two objects. (4 mins)</li><br>\n",
    "    <li>Given five data objects in the following table, find out the neareast point in the table to the new data point $x=(1.4,1.6)$ using Euclidean distance and Manhattan distance, respectively. (5 mins)\n",
    "    <table style=\"width:40%;border: 1px solid black;\">\n",
    "        <tr><th>data</th><th>$A_1$</th><th>$A_2$</th></tr>\n",
    "        <tr><th>$x_1$</th><th>1.5</th><th>1.7</th></tr>\n",
    "        <tr><th>$x_2$</th><th>2</th><th>1.9</th></tr>\n",
    "        <tr><th>$x_3$</th><th>1.6</th><th>1.8</th></tr>\n",
    "        <tr><th>$x_4$</th><th>1.2</th><th>1.5</th></tr>\n",
    "        <tr><th>$x_5$</th><th>1.5</th><th>1.0</th></tr>\n",
    "    </table> \n",
    "    </li><br>\n",
    "</ol>\n",
    "</p>"
   ]
  },
  {
   "cell_type": "code",
   "execution_count": 54,
   "metadata": {},
   "outputs": [
    {
     "name": "stdout",
     "output_type": "stream",
     "text": [
      "4\n"
     ]
    }
   ],
   "source": [
    "# Give three data objects in the following table, each of which only has categorical features, \n",
    "# calculate the dissimilarity between these objects. (5 mins) \n",
    "df = pd.read_csv('./q3data.csv')\n",
    "\n",
    "\n",
    "\n",
    "\n"
   ]
  },
  {
   "cell_type": "code",
   "execution_count": 65,
   "metadata": {},
   "outputs": [
    {
     "name": "stdout",
     "output_type": "stream",
     "text": [
      "11\n",
      "6.708203932499369\n"
     ]
    }
   ],
   "source": [
    "# Given two objects represented by the tuples (22, 1, 42, 10) and (20, 0, 36, 8), compute both the Euclidean distance and Manhattan distance between the two objects. (4 mins)\n",
    "def manhatten(x: list, y: list) -> float:\n",
    "    result = [abs(i-j) for i,j in zip(x,y)]\n",
    "    man_dist_sum = 0\n",
    "    for k in result:\n",
    "        man_dist_sum += k\n",
    "    \n",
    "    return man_dist_sum\n",
    "\n",
    "def eucledian(x: list, y: list) -> float:\n",
    "    result = [(abs(i-j))**2 for i,j in zip(x,y)]\n",
    "    euc_dist_sum = 0\n",
    "    for k in result:\n",
    "        euc_dist_sum += k\n",
    "    \n",
    "    return euc_dist_sum ** 0.5\n",
    "\n",
    "tup1 = [22, 1, 42, 10]\n",
    "tup2 = [20, 0, 36, 8]\n",
    "\n",
    "print(manhatten(tup1,tup2))\n",
    "print(eucledian(tup1, tup2))"
   ]
  },
  {
   "cell_type": "markdown",
   "metadata": {},
   "source": [
    "## 2. Data Pre-processing"
   ]
  },
  {
   "cell_type": "markdown",
   "metadata": {},
   "source": [
    "### Question Set 4 (40 mins)\n",
    "Review the Data Pre-processing in lecture sides (pages 42-74) and try to answer the following questions: \n",
    "<ol>\n",
    "    <li>What are the major tasks in Data Pre-processing? (2 mins)</li><br>\n",
    "    <li>In real-world data, data with missing values for some attributes is a common occurrence. Describe possible reasons and various methods for handling this problem. (2 mins)</li><br>\n",
    "    <li>Given the age data in <b>Question Set 1</b> (13, 15, 16, 16, 19, 20, 20, 21, 22, 22, 25, 25, 25, 25, 30, 33, 33, 35, 35, 35, 35, 36, 40, 45, 46, 52, 70), please use smoothing by bin means to pre-process the data, using a bin depth of 3. Illustrate your steps. Comment on the effect of this technique for the given data and describe what other methods are available for data smoothing. (10 mins)</li><br>  \n",
    "    <li>Discuss issues to consider during data integration. (2 mins)</li><br> \n",
    "    <li>Describe the strategies of data reduction. (4 mins)</li><br>    \n",
    "    <li>What are the value ranges of the following normalization methods? (5 mins)</li>\n",
    "     <ul>\n",
    "        <li>min-max normalization</li>\n",
    "        <li>z-score normalization</li>      \n",
    "    </ul> <br>\n",
    "    <li>Given the age data in <b>Question Set 1</b> (13, 15, 16, 16, 19, 20, 20, 21, 22, 22, 25, 25, 25, 25, 30, 33, 33, 35, 35, 35, 35, 36, 40, 45, 46, 52, 70), please normalize the data with min-max normalization method. (5 mins)</li><br>\n",
    "    <li>Use z-score normalization to transform the value 35 for age, where the age mean is 29.96 and the standard deviation of age is 12.94 years. (2 mins)</li><br>\n",
    "    <li>Suppose a group of 12 sales price records has been sorted as follows: (5,10,11,13,15,35,50,55,72,92,204,215). Partition them into three bins by equal-width and equal-depth partitioning methods. (8 mins)</li>\n",
    "</ol>\n",
    "\n"
   ]
  },
  {
   "cell_type": "code",
   "execution_count": 19,
   "metadata": {},
   "outputs": [
    {
     "name": "stdout",
     "output_type": "stream",
     "text": [
      "[[41, 41, 41], [45, 45, 45], [51, 51, 51], [62, 62, 62], [77, 77, 77], [87, 87, 87], [95, 95]]\n"
     ]
    }
   ],
   "source": [
    "# Q3\n",
    "BIN_DEPTH = 3\n",
    "\n",
    "def create_bins_of_depth(vals: list, depth: float) -> list:\n",
    "    bin_list = []\n",
    "    temp_bin = []\n",
    "    vals.sort()\n",
    "    for x in range(len(vals)):\n",
    "        if x % BIN_DEPTH == 0 and x != 0:\n",
    "            bin_list.append(temp_bin)\n",
    "            temp_bin = []\n",
    "        temp_bin.append(vals[x])\n",
    "    bin_list.append(temp_bin)\n",
    "    return bin_list\n",
    "\n",
    "def smooth_bins(bins: list[list]) -> list:\n",
    "    mean_of_bins = [round(mean(b)) for b in bins]\n",
    "    for l in range(len(bins)):\n",
    "        bins[l] = [mean_of_bins[l] for item in bins[l]]\n",
    "    return bins\n",
    "\n",
    "bin_list = create_bins_of_depth(values, BIN_DEPTH)\n",
    "print(smooth_bins(bin_list))"
   ]
  },
  {
   "cell_type": "code",
   "execution_count": 61,
   "metadata": {},
   "outputs": [
    {
     "name": "stdout",
     "output_type": "stream",
     "text": [
      "[0.0, 0.125, 0.25, 0.5, 1.0]\n"
     ]
    }
   ],
   "source": [
    "# Q7\n",
    "vals = [200,300,400,600,1000]\n",
    "MIN_VAL = min(vals)\n",
    "MAX_VAL = max(vals)\n",
    "NEW_MIN = 0\n",
    "NEW_MAX = 1\n",
    "\n",
    "def min_max(v: float) -> float:\n",
    "    return round((((v - MIN_VAL) / (MAX_VAL - MIN_VAL)) * (NEW_MAX - NEW_MIN)) + NEW_MIN, 3)\n",
    "\n",
    "results = [min_max(x) for x in vals]\n",
    "print(results)\n"
   ]
  },
  {
   "cell_type": "code",
   "execution_count": 87,
   "metadata": {},
   "outputs": [
    {
     "name": "stdout",
     "output_type": "stream",
     "text": [
      "0.38948995363214833\n"
     ]
    }
   ],
   "source": [
    "# Q8\n",
    "def zscore(x: float, u: float, o: float) -> float:\n",
    "    return (x - u) / o\n",
    "\n",
    "print(zscore(35, 29.96, 12.94))\n",
    "\n"
   ]
  },
  {
   "cell_type": "code",
   "execution_count": 83,
   "metadata": {},
   "outputs": [],
   "source": [
    "def create_bins_by_width(vals: list, num_bins: float) -> list[list]:\n",
    "    A = min(vals)\n",
    "    B = max(vals)\n",
    "    width = (B - A) / num_bins\n",
    "    temp_bin = []\n",
    "    check = 0\n",
    "    isfirst = True\n",
    "    first = 0\n",
    "    all_bins = []\n",
    "    for v in vals:\n",
    "        if isfirst:\n",
    "            first = v\n",
    "            isfirst = False\n",
    "        \n",
    "        temp_bin.append(v)\n",
    "        check = first - v\n",
    "        if check >= width:\n",
    "            all_bins.append(temp_bin)\n",
    "            check = 0\n",
    "            isfirst = True\n",
    "            temp_bin = []\n",
    "    return all_bins"
   ]
  },
  {
   "cell_type": "code",
   "execution_count": 84,
   "metadata": {},
   "outputs": [
    {
     "name": "stdout",
     "output_type": "stream",
     "text": [
      "[[41, 41, 42, 43, 45], [46, 49, 50, 55, 58], [61, 66, 73, 79, 80], [85, 87, 89, 92, 98]]\n",
      "[]\n"
     ]
    }
   ],
   "source": [
    "# Q9\n",
    "q9_vals = [41,41,42,43,45,46,49,50,55,58,61,66,73,79,80,85,87,89,92,98]\n",
    "\n",
    "TOTAL_BINS = 4\n",
    "BIN_DEPTH = len(q9_vals) / TOTAL_BINS\n",
    "\n",
    "print(create_bins_of_depth(q9_vals, BIN_DEPTH))\n",
    "print(create_bins_by_width(q9_vals, 4))"
   ]
  },
  {
   "cell_type": "code",
   "execution_count": 34,
   "metadata": {},
   "outputs": [
    {
     "name": "stdout",
     "output_type": "stream",
     "text": [
      "4.397765380319912\n"
     ]
    }
   ],
   "source": [
    "d1 = [4,1,5,6,8,2,4,6,1]\n",
    "d2 = [0,1,3,3,9,0,4,2,5]\n",
    "\n",
    "def get_vector_len(dataset: list)-> float:\n",
    "    counter = 0\n",
    "    for i in dataset:\n",
    "        counter += i\n",
    "    return counter ** 0.5\n",
    "    \n",
    "\n",
    "def cosine(set1: list, set2: list) -> float:\n",
    "    dot_product_values = [x*y for x, y in zip(set1,set2)]\n",
    "    dot_product = sum(dot_product_values)\n",
    "\n",
    "    vectorlen_1 = get_vector_len(set1)\n",
    "    vectorlen_2 = get_vector_len(set2)\n",
    "    \n",
    "    return dot_product / (vectorlen_1 * vectorlen_2)\n",
    "        \n",
    "\n",
    "print(cosine(d1, d2))"
   ]
  },
  {
   "cell_type": "markdown",
   "metadata": {},
   "source": [
    "# Activity Set 2: Coding Practice (extras for homework) [<font color=red>Individual Activity</font>] "
   ]
  },
  {
   "cell_type": "markdown",
   "metadata": {},
   "source": [
    "You need to code to address the following problems:\n",
    "<ol>\n",
    "    <li>Load raw_bank_data.csv dataset.</li>\n",
    "    <li>Check what types of attributes are available in the data.</li>\n",
    "    <li>Check statistical information of numerical attributes.</li>\n",
    "    <li>Check if there are missing data and noise for attributes.</li>\n",
    "    <li>Choose mean or median values to fill the missing data.</li>\n",
    "    <li>Drop those data records whose last column (\"y\") is missing.</li> \n",
    "    <li>Need to drop two columns \"day\" and \"month\".</li>\n",
    "    <li>Normalize the categorical features using one-hot method.</li>   <font color=green>  \n",
    "    <b>Below tasks are optional activities for 3031ICT/7031ICT students:   \n",
    "    <li>Use K-NN as a classifier to predict if the customer is going to have a deposit.</li>\n",
    "    <li>Normalize the data using min-max scale and then perform the K-NN above again.</li>     \n",
    "</ol>"
   ]
  }
 ],
 "metadata": {
  "kernelspec": {
   "display_name": "Python 3 (ipykernel)",
   "language": "python",
   "name": "python3"
  },
  "language_info": {
   "codemirror_mode": {
    "name": "ipython",
    "version": 3
   },
   "file_extension": ".py",
   "mimetype": "text/x-python",
   "name": "python",
   "nbconvert_exporter": "python",
   "pygments_lexer": "ipython3",
   "version": "3.9.6"
  }
 },
 "nbformat": 4,
 "nbformat_minor": 2
}
